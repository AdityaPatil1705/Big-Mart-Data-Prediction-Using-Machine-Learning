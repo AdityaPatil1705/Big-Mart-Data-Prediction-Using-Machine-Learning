{
  "nbformat": 4,
  "nbformat_minor": 0,
  "metadata": {
    "colab": {
      "provenance": [],
      "toc_visible": true,
      "authorship_tag": "ABX9TyPrCxzyv5i0/FRxiKwroeTh",
      "include_colab_link": true
    },
    "kernelspec": {
      "name": "python3",
      "display_name": "Python 3"
    },
    "language_info": {
      "name": "python"
    }
  },
  "cells": [
    {
      "cell_type": "markdown",
      "metadata": {
        "id": "view-in-github",
        "colab_type": "text"
      },
      "source": [
        "<a href=\"https://colab.research.google.com/github/AdityaPatil1705/Big-Mart-Data-Prediction-Using-Machine-Learning/blob/main/PYTHON_WORK_1.ipynb\" target=\"_parent\"><img src=\"https://colab.research.google.com/assets/colab-badge.svg\" alt=\"Open In Colab\"/></a>"
      ]
    },
    {
      "cell_type": "code",
      "execution_count": 1,
      "metadata": {
        "colab": {
          "base_uri": "https://localhost:8080/"
        },
        "id": "HQSfJ09JzWOh",
        "outputId": "13716862-0a21-4add-e624-dfac345ab4e2"
      },
      "outputs": [
        {
          "output_type": "stream",
          "name": "stdout",
          "text": [
            "Welcome to Python\n"
          ]
        }
      ],
      "source": [
        "print(\"Welcome to Python\")"
      ]
    },
    {
      "cell_type": "code",
      "source": [
        "print(\"Unpacking Collection\")\n",
        "fruits=['Apple','Banana','Orange']\n",
        "x,y,z = fruits\n",
        "\n",
        "print(x)\n",
        "print(y)\n",
        "print(z)"
      ],
      "metadata": {
        "colab": {
          "base_uri": "https://localhost:8080/"
        },
        "id": "3b1XpdT-0R7_",
        "outputId": "19ca0893-f223-40ae-8f6a-08185005c0d6"
      },
      "execution_count": 2,
      "outputs": [
        {
          "output_type": "stream",
          "name": "stdout",
          "text": [
            "Unpacking Collection\n",
            "Apple\n",
            "Banana\n",
            "Orange\n"
          ]
        }
      ]
    },
    {
      "cell_type": "code",
      "source": [
        "print(\"Global variables Example\")\n",
        "\n",
        "a = \"Aditya\"\n",
        "\n",
        "def myFunc():\n",
        "  a = \"Patil\"\n",
        "  print(\"My Surname Is \",a)\n",
        "\n",
        "myFunc()\n",
        "\n",
        "print(\"My name is \",a)"
      ],
      "metadata": {
        "colab": {
          "base_uri": "https://localhost:8080/"
        },
        "id": "DNFTUGT20h4m",
        "outputId": "602604f7-1b7d-451c-a076-ca3f99a84599"
      },
      "execution_count": 3,
      "outputs": [
        {
          "output_type": "stream",
          "name": "stdout",
          "text": [
            "Global variables Example\n",
            "My Surname Is  Patil\n",
            "My name is  Aditya\n"
          ]
        }
      ]
    },
    {
      "cell_type": "code",
      "source": [
        "print(\"Use Of Random\")\n",
        "import random\n",
        "\n",
        "print(random.randrange(100,200))"
      ],
      "metadata": {
        "colab": {
          "base_uri": "https://localhost:8080/"
        },
        "id": "a6s6NpDf1Tdc",
        "outputId": "69fc653e-8d4b-4c25-bd9d-d75f11c10f4c"
      },
      "execution_count": 4,
      "outputs": [
        {
          "output_type": "stream",
          "name": "stdout",
          "text": [
            "Use Of Random\n",
            "169\n"
          ]
        }
      ]
    },
    {
      "cell_type": "code",
      "source": [
        "print(\"Check in String\")\n",
        "a = \"hello Aditya here\"\n",
        "print(\"Aditya\" in a)"
      ],
      "metadata": {
        "id": "3dxrT1hv_Hfv",
        "colab": {
          "base_uri": "https://localhost:8080/"
        },
        "outputId": "c812a560-9187-4d86-8fbc-5069de9dabb8"
      },
      "execution_count": 5,
      "outputs": [
        {
          "output_type": "stream",
          "name": "stdout",
          "text": [
            "Check in String\n",
            "True\n"
          ]
        }
      ]
    },
    {
      "cell_type": "code",
      "source": [
        "print(\"Check Not In String\")\n",
        "a = \"hello Aditya here\"\n",
        "print(\"Aditya\" not in a)"
      ],
      "metadata": {
        "colab": {
          "base_uri": "https://localhost:8080/"
        },
        "id": "DtWqnqFRv8Fa",
        "outputId": "70ec2843-b48f-42dd-c14f-3b05f0927bfb"
      },
      "execution_count": 6,
      "outputs": [
        {
          "output_type": "stream",
          "name": "stdout",
          "text": [
            "Check Not In String\n",
            "False\n"
          ]
        }
      ]
    },
    {
      "cell_type": "markdown",
      "source": [
        "**Modifying String**"
      ],
      "metadata": {
        "id": "rMcVk9gJwawT"
      }
    },
    {
      "cell_type": "code",
      "source": [
        "a = 'aditya'\n",
        "print(a.upper())"
      ],
      "metadata": {
        "colab": {
          "base_uri": "https://localhost:8080/"
        },
        "id": "Yp2JPnWIwOuV",
        "outputId": "066ebd69-9c91-4254-bacf-8942a5838ecf"
      },
      "execution_count": 7,
      "outputs": [
        {
          "output_type": "stream",
          "name": "stdout",
          "text": [
            "ADITYA\n"
          ]
        }
      ]
    },
    {
      "cell_type": "code",
      "source": [
        "a = 'INDIAN'\n",
        "print(a.lower())"
      ],
      "metadata": {
        "colab": {
          "base_uri": "https://localhost:8080/"
        },
        "id": "Irf3NryFwl3x",
        "outputId": "0889af16-4a48-4f31-fc9a-9e0cdd7515b5"
      },
      "execution_count": 8,
      "outputs": [
        {
          "output_type": "stream",
          "name": "stdout",
          "text": [
            "indian\n"
          ]
        }
      ]
    },
    {
      "cell_type": "code",
      "source": [
        "a = \"        Hello World This Is my first program\"\n",
        "print(f\"Before Strip : {a}\")\n",
        "print(f\"After Strip : \",a.strip())"
      ],
      "metadata": {
        "colab": {
          "base_uri": "https://localhost:8080/"
        },
        "id": "dYcrKaF0wwFV",
        "outputId": "403dad67-1535-42e3-f870-f7dcf2dc9e0b"
      },
      "execution_count": 9,
      "outputs": [
        {
          "output_type": "stream",
          "name": "stdout",
          "text": [
            "Before Strip :         Hello World This Is my first program\n",
            "After Strip :  Hello World This Is my first program\n"
          ]
        }
      ]
    },
    {
      "cell_type": "code",
      "source": [
        "print(a.replace(\"H\",\"I\"))\n"
      ],
      "metadata": {
        "colab": {
          "base_uri": "https://localhost:8080/"
        },
        "id": "T-6uIDP3w9G1",
        "outputId": "0c758e50-f9c0-4ec2-8093-dda9a7bb2662"
      },
      "execution_count": 10,
      "outputs": [
        {
          "output_type": "stream",
          "name": "stdout",
          "text": [
            "        Iello World This Is my first program\n"
          ]
        }
      ]
    },
    {
      "cell_type": "code",
      "source": [
        "a = \"Hello World ,This Is my first ,program\"\n",
        "print(a.split(\",\"))"
      ],
      "metadata": {
        "colab": {
          "base_uri": "https://localhost:8080/"
        },
        "id": "n7Ogw-qRxmDE",
        "outputId": "5bb55fbe-774f-4df7-9e16-e7f766a06dbd"
      },
      "execution_count": 11,
      "outputs": [
        {
          "output_type": "stream",
          "name": "stdout",
          "text": [
            "['Hello World ', 'This Is my first ', 'program']\n"
          ]
        }
      ]
    },
    {
      "cell_type": "markdown",
      "source": [
        "# List\n"
      ],
      "metadata": {
        "id": "wLHbwXS4_1KH"
      }
    },
    {
      "cell_type": "markdown",
      "source": [
        "**List**\n",
        "\n",
        "*List Items*\n",
        "\n",
        "List items are ordered, changeable, and allow duplicate values.\n",
        "\n",
        "\n",
        "\n"
      ],
      "metadata": {
        "id": "n6TJ5ccUycp-"
      }
    },
    {
      "cell_type": "code",
      "source": [
        "myList = [\"apple\",\"banana\",\"apple\",\"orange\",\"strawberry\",\"pineapple\"]\n",
        "print(myList)"
      ],
      "metadata": {
        "colab": {
          "base_uri": "https://localhost:8080/"
        },
        "id": "8fdkcrmWx3Q4",
        "outputId": "a36f8d30-a5d6-48b6-84b5-90e9ae81e136"
      },
      "execution_count": 12,
      "outputs": [
        {
          "output_type": "stream",
          "name": "stdout",
          "text": [
            "['apple', 'banana', 'apple', 'orange', 'strawberry', 'pineapple']\n"
          ]
        }
      ]
    },
    {
      "cell_type": "code",
      "source": [
        "print(len(myList))"
      ],
      "metadata": {
        "colab": {
          "base_uri": "https://localhost:8080/"
        },
        "id": "EordcLQQ_-9O",
        "outputId": "da4a7a17-f702-4eab-c2c5-fb47bfbfc3b1"
      },
      "execution_count": 13,
      "outputs": [
        {
          "output_type": "stream",
          "name": "stdout",
          "text": [
            "6\n"
          ]
        }
      ]
    },
    {
      "cell_type": "code",
      "source": [
        "print(myList[4])"
      ],
      "metadata": {
        "colab": {
          "base_uri": "https://localhost:8080/"
        },
        "id": "W3SiKtInAFpH",
        "outputId": "108496fb-1ba6-46f3-d558-53bbc1142f38"
      },
      "execution_count": 14,
      "outputs": [
        {
          "output_type": "stream",
          "name": "stdout",
          "text": [
            "strawberry\n"
          ]
        }
      ]
    },
    {
      "cell_type": "code",
      "source": [
        "print(myList[-2])"
      ],
      "metadata": {
        "colab": {
          "base_uri": "https://localhost:8080/"
        },
        "id": "XjxCCfAiATEH",
        "outputId": "205fc282-661b-409a-812d-6d31146605d2"
      },
      "execution_count": 15,
      "outputs": [
        {
          "output_type": "stream",
          "name": "stdout",
          "text": [
            "strawberry\n"
          ]
        }
      ]
    },
    {
      "cell_type": "code",
      "source": [
        "print(myList[-4:-1])"
      ],
      "metadata": {
        "colab": {
          "base_uri": "https://localhost:8080/"
        },
        "id": "xOr46lCRAavh",
        "outputId": "f1f7fda9-9449-48b3-fb8a-e7f7dd7fbbde"
      },
      "execution_count": 16,
      "outputs": [
        {
          "output_type": "stream",
          "name": "stdout",
          "text": [
            "['apple', 'orange', 'strawberry']\n"
          ]
        }
      ]
    },
    {
      "cell_type": "code",
      "source": [
        "myList = [\"apple\",\"banana\",\"apple\",\"orange\",\"strawberry\",\"pineapple\"]\n",
        "if \"orange\" in myList:\n",
        "  print(\"Orange Is present\")"
      ],
      "metadata": {
        "colab": {
          "base_uri": "https://localhost:8080/"
        },
        "id": "fwl_WV2NAhDL",
        "outputId": "0ebbf2b4-32b6-492d-e3bb-7204d595bfee"
      },
      "execution_count": 17,
      "outputs": [
        {
          "output_type": "stream",
          "name": "stdout",
          "text": [
            "Orange Is present\n"
          ]
        }
      ]
    },
    {
      "cell_type": "markdown",
      "source": [
        "**Insert Items**\n",
        "\n",
        "To insert a new list item, without replacing any of the existing values, we can use the insert() method.\n",
        "\n",
        "The insert() method inserts an item at the specified index:"
      ],
      "metadata": {
        "id": "J32nAWDuBo34"
      }
    },
    {
      "cell_type": "code",
      "source": [
        "myList.insert(2,\"Guava\")\n",
        "print(myList)"
      ],
      "metadata": {
        "colab": {
          "base_uri": "https://localhost:8080/"
        },
        "id": "rhCTN13YBXyo",
        "outputId": "3e10e67a-e27e-4b91-f3fd-74883924eb4e"
      },
      "execution_count": 18,
      "outputs": [
        {
          "output_type": "stream",
          "name": "stdout",
          "text": [
            "['apple', 'banana', 'Guava', 'apple', 'orange', 'strawberry', 'pineapple']\n"
          ]
        }
      ]
    },
    {
      "cell_type": "markdown",
      "source": [
        "**Append Items**\n",
        "\n",
        "To add an item to the end of the list, use the append() method:"
      ],
      "metadata": {
        "id": "1xFBS9uVB5sy"
      }
    },
    {
      "cell_type": "code",
      "source": [
        "myList.append(\"Banana\")\n",
        "print(myList)"
      ],
      "metadata": {
        "colab": {
          "base_uri": "https://localhost:8080/"
        },
        "id": "tWlggjdFB1F6",
        "outputId": "b4770614-a2ed-4b4c-c085-a445e5f56f8f"
      },
      "execution_count": 19,
      "outputs": [
        {
          "output_type": "stream",
          "name": "stdout",
          "text": [
            "['apple', 'banana', 'Guava', 'apple', 'orange', 'strawberry', 'pineapple', 'Banana']\n"
          ]
        }
      ]
    },
    {
      "cell_type": "markdown",
      "source": [
        "**Extend**"
      ],
      "metadata": {
        "id": "urHx2JSICRZE"
      }
    },
    {
      "cell_type": "code",
      "source": [
        "thislist = [\"apple\", \"banana\", \"cherry\"]\n",
        "tropical = [\"mango\", \"pineapple\", \"papaya\"]\n",
        "thislist.extend(tropical)\n",
        "print(thislist)"
      ],
      "metadata": {
        "colab": {
          "base_uri": "https://localhost:8080/"
        },
        "id": "46xVX70tCCcH",
        "outputId": "7b99af55-8d7d-4afa-83e5-ea36429c40df"
      },
      "execution_count": 20,
      "outputs": [
        {
          "output_type": "stream",
          "name": "stdout",
          "text": [
            "['apple', 'banana', 'cherry', 'mango', 'pineapple', 'papaya']\n"
          ]
        }
      ]
    },
    {
      "cell_type": "markdown",
      "source": [
        "Remove specified elements from list"
      ],
      "metadata": {
        "id": "ixbVi6jKCrYM"
      }
    },
    {
      "cell_type": "code",
      "source": [
        "myList.remove(\"Banana\")\n",
        "print(myList)"
      ],
      "metadata": {
        "colab": {
          "base_uri": "https://localhost:8080/"
        },
        "id": "iQgkagrsCXEC",
        "outputId": "b4bccd9d-1612-4436-c2b3-ce3f800433a6"
      },
      "execution_count": 21,
      "outputs": [
        {
          "output_type": "stream",
          "name": "stdout",
          "text": [
            "['apple', 'banana', 'Guava', 'apple', 'orange', 'strawberry', 'pineapple']\n"
          ]
        }
      ]
    },
    {
      "cell_type": "markdown",
      "source": [
        "Remove element at specified index\n",
        "\n",
        "If nothing is passed then it will pop the element at last"
      ],
      "metadata": {
        "id": "mXqPNyvvDDNW"
      }
    },
    {
      "cell_type": "code",
      "source": [
        "myList.pop(4)\n",
        "print(myList)"
      ],
      "metadata": {
        "colab": {
          "base_uri": "https://localhost:8080/"
        },
        "id": "O4i54cGYC1Yf",
        "outputId": "090b077a-3409-48f9-9eb2-1acabf83331b"
      },
      "execution_count": 22,
      "outputs": [
        {
          "output_type": "stream",
          "name": "stdout",
          "text": [
            "['apple', 'banana', 'Guava', 'apple', 'strawberry', 'pineapple']\n"
          ]
        }
      ]
    },
    {
      "cell_type": "code",
      "source": [
        "myList.pop()\n",
        "print(myList)"
      ],
      "metadata": {
        "colab": {
          "base_uri": "https://localhost:8080/"
        },
        "id": "ovVC4p6WDMRa",
        "outputId": "71d3d2a4-0309-4630-e293-bf9f9b9278bc"
      },
      "execution_count": 23,
      "outputs": [
        {
          "output_type": "stream",
          "name": "stdout",
          "text": [
            "['apple', 'banana', 'Guava', 'apple', 'strawberry']\n"
          ]
        }
      ]
    },
    {
      "cell_type": "code",
      "source": [
        "clear = myList.clear()\n",
        "print(clear)"
      ],
      "metadata": {
        "colab": {
          "base_uri": "https://localhost:8080/"
        },
        "id": "X0SLpCYBDa9N",
        "outputId": "33279dbb-a3e6-4d14-cca5-6f55435d188f"
      },
      "execution_count": 24,
      "outputs": [
        {
          "output_type": "stream",
          "name": "stdout",
          "text": [
            "None\n"
          ]
        }
      ]
    },
    {
      "cell_type": "code",
      "source": [
        "myList = [\"apple\",\"banana\",\"apple\",\"orange\",\"strawberry\",\"pineapple\"]\n",
        "print(myList)"
      ],
      "metadata": {
        "colab": {
          "base_uri": "https://localhost:8080/"
        },
        "id": "vtgHhb7fDvcL",
        "outputId": "a65b64aa-03f2-4967-a541-e37361cd76fe"
      },
      "execution_count": 25,
      "outputs": [
        {
          "output_type": "stream",
          "name": "stdout",
          "text": [
            "['apple', 'banana', 'apple', 'orange', 'strawberry', 'pineapple']\n"
          ]
        }
      ]
    },
    {
      "cell_type": "markdown",
      "source": [
        "**Looping Through the list**"
      ],
      "metadata": {
        "id": "ogEUFQaEEFoh"
      }
    },
    {
      "cell_type": "code",
      "source": [
        "for x in myList:\n",
        "  print(x)"
      ],
      "metadata": {
        "colab": {
          "base_uri": "https://localhost:8080/"
        },
        "id": "m0ll5obNEDFq",
        "outputId": "2ab0c5a7-d8f6-48f1-9c26-22812b051ebf"
      },
      "execution_count": 26,
      "outputs": [
        {
          "output_type": "stream",
          "name": "stdout",
          "text": [
            "apple\n",
            "banana\n",
            "apple\n",
            "orange\n",
            "strawberry\n",
            "pineapple\n"
          ]
        }
      ]
    },
    {
      "cell_type": "code",
      "source": [
        "for i in range(len(myList)):\n",
        "  print(myList[i])"
      ],
      "metadata": {
        "colab": {
          "base_uri": "https://localhost:8080/"
        },
        "id": "IfA3wOOMEN4u",
        "outputId": "beb52d1d-7731-4e2b-a611-8a934ef723e2"
      },
      "execution_count": 27,
      "outputs": [
        {
          "output_type": "stream",
          "name": "stdout",
          "text": [
            "apple\n",
            "banana\n",
            "apple\n",
            "orange\n",
            "strawberry\n",
            "pineapple\n"
          ]
        }
      ]
    },
    {
      "cell_type": "code",
      "source": [
        "i = 0\n",
        "while i<len(myList):\n",
        "  print(myList[i])\n",
        "  i+=1"
      ],
      "metadata": {
        "colab": {
          "base_uri": "https://localhost:8080/"
        },
        "id": "17w58VT5EYMy",
        "outputId": "172ec750-c97b-4478-a2ad-b6bd9e89c1f9"
      },
      "execution_count": 28,
      "outputs": [
        {
          "output_type": "stream",
          "name": "stdout",
          "text": [
            "apple\n",
            "banana\n",
            "apple\n",
            "orange\n",
            "strawberry\n",
            "pineapple\n"
          ]
        }
      ]
    },
    {
      "cell_type": "code",
      "source": [
        "newList=[]\n",
        "\n",
        "for x in myList:\n",
        "  if \"p\" in x:\n",
        "    newList.append(x)\n",
        "\n",
        "print(newList)"
      ],
      "metadata": {
        "colab": {
          "base_uri": "https://localhost:8080/"
        },
        "id": "nD8wUkIQEoI5",
        "outputId": "1e35fe43-6a59-4714-f7e4-fe41c2f534f8"
      },
      "execution_count": 29,
      "outputs": [
        {
          "output_type": "stream",
          "name": "stdout",
          "text": [
            "['apple', 'apple', 'pineapple']\n"
          ]
        }
      ]
    },
    {
      "cell_type": "code",
      "source": [
        "comprehension = [x for x in myList if \"o\" in x]\n",
        "print(comprehension)"
      ],
      "metadata": {
        "colab": {
          "base_uri": "https://localhost:8080/"
        },
        "id": "tkoxrwfMFyC-",
        "outputId": "277778c5-6768-4e78-b287-8b996450ae7f"
      },
      "execution_count": 30,
      "outputs": [
        {
          "output_type": "stream",
          "name": "stdout",
          "text": [
            "['orange']\n"
          ]
        }
      ]
    },
    {
      "cell_type": "code",
      "source": [
        "thislist = [100, 50, 65, 82, 23]\n",
        "thislist.sort()\n",
        "print(thislist)"
      ],
      "metadata": {
        "colab": {
          "base_uri": "https://localhost:8080/"
        },
        "id": "xg-Kh6jnGReW",
        "outputId": "58a52b2a-e821-45c7-f3a7-14057e264ee2"
      },
      "execution_count": 31,
      "outputs": [
        {
          "output_type": "stream",
          "name": "stdout",
          "text": [
            "[23, 50, 65, 82, 100]\n"
          ]
        }
      ]
    },
    {
      "cell_type": "code",
      "source": [
        "thislist = [100, 50, 65, 82, 23]\n",
        "thislist.sort(reverse=True)\n",
        "print(thislist)"
      ],
      "metadata": {
        "colab": {
          "base_uri": "https://localhost:8080/"
        },
        "id": "n2gC1bjLGr-M",
        "outputId": "9a07b347-dad1-45f1-dd89-51519e614fc4"
      },
      "execution_count": 32,
      "outputs": [
        {
          "output_type": "stream",
          "name": "stdout",
          "text": [
            "[100, 82, 65, 50, 23]\n"
          ]
        }
      ]
    },
    {
      "cell_type": "markdown",
      "source": [
        "# Tuple"
      ],
      "metadata": {
        "id": "TPWK3wGS_8ae"
      }
    },
    {
      "cell_type": "markdown",
      "source": [
        "**Tuple**\n",
        "\n",
        "A tuple is a collection which is ordered and unchangeable.\n",
        "\n",
        "Tuple items are ordered, unchangeable, and allow duplicate values.\n",
        "\n",
        "Tuples are written with round brackets."
      ],
      "metadata": {
        "id": "M3Q5rTuSqkO2"
      }
    },
    {
      "cell_type": "code",
      "source": [
        "myTuple = (\"aditya\",\"Avadhut\",\"Kalpesh\",\"Om\",\"Sarthak\")\n",
        "print(type(myTuple))"
      ],
      "metadata": {
        "colab": {
          "base_uri": "https://localhost:8080/"
        },
        "id": "lRB2XKC9GxSl",
        "outputId": "611ae3c1-34da-4bc2-945e-df5fa4afe244"
      },
      "execution_count": 33,
      "outputs": [
        {
          "output_type": "stream",
          "name": "stdout",
          "text": [
            "<class 'tuple'>\n"
          ]
        }
      ]
    },
    {
      "cell_type": "markdown",
      "source": [
        "Tuple with single element"
      ],
      "metadata": {
        "id": "eJC8lywXrp6Z"
      }
    },
    {
      "cell_type": "code",
      "source": [
        "singleTuple = (\"aditya\",)\n",
        "print(type(singleTuple))"
      ],
      "metadata": {
        "colab": {
          "base_uri": "https://localhost:8080/"
        },
        "id": "Bpb76WDjrOVw",
        "outputId": "b0165832-bfe6-40dc-b19c-aecd9fafabaa"
      },
      "execution_count": 34,
      "outputs": [
        {
          "output_type": "stream",
          "name": "stdout",
          "text": [
            "<class 'tuple'>\n"
          ]
        }
      ]
    },
    {
      "cell_type": "code",
      "source": [
        "print(myTuple[:3])"
      ],
      "metadata": {
        "colab": {
          "base_uri": "https://localhost:8080/"
        },
        "id": "T1rKdicXrwUP",
        "outputId": "e0f717ca-b40a-439d-8dda-7a3f5d2bfffc"
      },
      "execution_count": 35,
      "outputs": [
        {
          "output_type": "stream",
          "name": "stdout",
          "text": [
            "('aditya', 'Avadhut', 'Kalpesh')\n"
          ]
        }
      ]
    },
    {
      "cell_type": "markdown",
      "source": [
        "For update table first we have to convert it into list"
      ],
      "metadata": {
        "id": "inrK9z7bsRRj"
      }
    },
    {
      "cell_type": "code",
      "source": [
        "updatedList = list(singleTuple)\n",
        "updatedList.append(\"King\")\n",
        "newTuple = tuple(updatedList)\n",
        "print(newTuple)"
      ],
      "metadata": {
        "colab": {
          "base_uri": "https://localhost:8080/"
        },
        "id": "tp5QO9NfsDua",
        "outputId": "2506a5f2-e725-46a7-d2da-8b745c2f264c"
      },
      "execution_count": 36,
      "outputs": [
        {
          "output_type": "stream",
          "name": "stdout",
          "text": [
            "('aditya', 'King')\n"
          ]
        }
      ]
    },
    {
      "cell_type": "markdown",
      "source": [
        "Unpacking Tuple"
      ],
      "metadata": {
        "id": "-Hsq1AJltXlT"
      }
    },
    {
      "cell_type": "code",
      "source": [
        "fruits = (\"apple\", \"banana\", \"cherry\")\n",
        "\n",
        "(green, yellow, red) = fruits\n",
        "\n",
        "print(green)\n",
        "print(yellow)\n",
        "print(red)"
      ],
      "metadata": {
        "colab": {
          "base_uri": "https://localhost:8080/"
        },
        "id": "yqO9n4DBsiXD",
        "outputId": "2d4009f3-9b04-41ec-8af3-9e7e951c7ec1"
      },
      "execution_count": 37,
      "outputs": [
        {
          "output_type": "stream",
          "name": "stdout",
          "text": [
            "apple\n",
            "banana\n",
            "cherry\n"
          ]
        }
      ]
    },
    {
      "cell_type": "code",
      "source": [
        "fruits = (\"apple\", \"banana\", \"cherry\", \"strawberry\", \"raspberry\")\n",
        "\n",
        "(green, yellow, *red) = fruits\n",
        "\n",
        "print(green)\n",
        "print(yellow)\n",
        "print(red)"
      ],
      "metadata": {
        "colab": {
          "base_uri": "https://localhost:8080/"
        },
        "id": "S4vGS_VAtaIJ",
        "outputId": "dc350252-cab2-422a-e51f-e363fc75a029"
      },
      "execution_count": 38,
      "outputs": [
        {
          "output_type": "stream",
          "name": "stdout",
          "text": [
            "apple\n",
            "banana\n",
            "['cherry', 'strawberry', 'raspberry']\n"
          ]
        }
      ]
    },
    {
      "cell_type": "code",
      "source": [
        "fruits = (\"apple\", \"mango\", \"papaya\", \"pineapple\", \"cherry\")\n",
        "\n",
        "(green, *tropic, red) = fruits\n",
        "\n",
        "print(green)\n",
        "print(tropic)\n",
        "print(red)"
      ],
      "metadata": {
        "colab": {
          "base_uri": "https://localhost:8080/"
        },
        "id": "TQk0_VqZtpSL",
        "outputId": "17fa2e35-24ce-4a17-b0a8-5ac67ca701df"
      },
      "execution_count": 39,
      "outputs": [
        {
          "output_type": "stream",
          "name": "stdout",
          "text": [
            "apple\n",
            "['mango', 'papaya', 'pineapple']\n",
            "cherry\n"
          ]
        }
      ]
    },
    {
      "cell_type": "markdown",
      "source": [
        "Looping Through Tuple"
      ],
      "metadata": {
        "id": "oMKIdJ5Ut0Y7"
      }
    },
    {
      "cell_type": "code",
      "source": [
        "thistuple = (\"apple\", \"banana\", \"cherry\")\n",
        "for i in range(len(thistuple)):\n",
        "  print(thistuple[i])"
      ],
      "metadata": {
        "colab": {
          "base_uri": "https://localhost:8080/"
        },
        "id": "Dnc-SprXtsWa",
        "outputId": "0cea545f-06ef-45c2-c1f4-89373aae1885"
      },
      "execution_count": 40,
      "outputs": [
        {
          "output_type": "stream",
          "name": "stdout",
          "text": [
            "apple\n",
            "banana\n",
            "cherry\n"
          ]
        }
      ]
    },
    {
      "cell_type": "code",
      "source": [
        "thistuple = (\"apple\", \"banana\", \"cherry\")\n",
        "i = 0\n",
        "while i < len(thistuple):\n",
        "  print(thistuple[i])\n",
        "  i += 1"
      ],
      "metadata": {
        "colab": {
          "base_uri": "https://localhost:8080/"
        },
        "id": "EVI5ZD0At3fX",
        "outputId": "7dba760e-1fbd-4937-e6cf-58ea96a699e1"
      },
      "execution_count": 41,
      "outputs": [
        {
          "output_type": "stream",
          "name": "stdout",
          "text": [
            "apple\n",
            "banana\n",
            "cherry\n"
          ]
        }
      ]
    },
    {
      "cell_type": "code",
      "source": [
        "fruits = (\"apple\", \"banana\", \"cherry\")\n",
        "mytuple = fruits * 2\n",
        "\n",
        "print(mytuple)"
      ],
      "metadata": {
        "colab": {
          "base_uri": "https://localhost:8080/"
        },
        "id": "gJLX0Peat78u",
        "outputId": "c288a882-143a-4ef0-a7b4-0a262fb48d16"
      },
      "execution_count": 42,
      "outputs": [
        {
          "output_type": "stream",
          "name": "stdout",
          "text": [
            "('apple', 'banana', 'cherry', 'apple', 'banana', 'cherry')\n"
          ]
        }
      ]
    },
    {
      "cell_type": "markdown",
      "source": [
        "# Set"
      ],
      "metadata": {
        "id": "h3Po-jBqAChw"
      }
    },
    {
      "cell_type": "markdown",
      "source": [
        "**Set**\n",
        "\n",
        "Sets are used to store multiple items in a single variable.\n",
        "\n",
        "A set is a collection which is unordered, unchangeable*, and unindexed."
      ],
      "metadata": {
        "id": "oC8HzNWHqDiG"
      }
    },
    {
      "cell_type": "code",
      "source": [
        "mySet = {\"Aditya\",\"Kalpesh\",\"Avadhut\",\"Dev\",\"Pranav\",\"Ferrari\",\"Ferrari\"}\n",
        "print(mySet)\n",
        "print(type(mySet))\n",
        "print(len(mySet))"
      ],
      "metadata": {
        "id": "77vgAm3juBQv",
        "colab": {
          "base_uri": "https://localhost:8080/"
        },
        "outputId": "46bad7fe-20d0-4029-83b4-27383b22daaa"
      },
      "execution_count": 43,
      "outputs": [
        {
          "output_type": "stream",
          "name": "stdout",
          "text": [
            "{'Dev', 'Ferrari', 'Pranav', 'Kalpesh', 'Aditya', 'Avadhut'}\n",
            "<class 'set'>\n",
            "6\n"
          ]
        }
      ]
    },
    {
      "cell_type": "code",
      "source": [
        "for x in mySet:\n",
        "  print(x)"
      ],
      "metadata": {
        "colab": {
          "base_uri": "https://localhost:8080/"
        },
        "id": "MM0h4OASqgiX",
        "outputId": "3941ed57-b852-4a30-b581-37bed240a70b"
      },
      "execution_count": 44,
      "outputs": [
        {
          "output_type": "stream",
          "name": "stdout",
          "text": [
            "Dev\n",
            "Ferrari\n",
            "Pranav\n",
            "Kalpesh\n",
            "Aditya\n",
            "Avadhut\n"
          ]
        }
      ]
    },
    {
      "cell_type": "code",
      "source": [
        "print(\"Ferrari\" not in mySet)"
      ],
      "metadata": {
        "colab": {
          "base_uri": "https://localhost:8080/"
        },
        "id": "LrS7TT8frMMv",
        "outputId": "03a25b69-73b2-49d4-d732-028dec17511f"
      },
      "execution_count": 45,
      "outputs": [
        {
          "output_type": "stream",
          "name": "stdout",
          "text": [
            "False\n"
          ]
        }
      ]
    },
    {
      "cell_type": "code",
      "source": [
        "mySet.add(\"Porsche\")\n",
        "print(mySet)"
      ],
      "metadata": {
        "colab": {
          "base_uri": "https://localhost:8080/"
        },
        "id": "S5beYwKDrgCo",
        "outputId": "0e5122ef-b115-48c5-eb3a-e50b8cf79f6d"
      },
      "execution_count": 46,
      "outputs": [
        {
          "output_type": "stream",
          "name": "stdout",
          "text": [
            "{'Dev', 'Ferrari', 'Pranav', 'Kalpesh', 'Aditya', 'Porsche', 'Avadhut'}\n"
          ]
        }
      ]
    },
    {
      "cell_type": "code",
      "source": [
        "mySet2 = {\"Suzuki\",\"BMW\"}\n",
        "mySet.update(mySet2)\n",
        "print(mySet)"
      ],
      "metadata": {
        "colab": {
          "base_uri": "https://localhost:8080/"
        },
        "id": "U_R78Lafr7IQ",
        "outputId": "bbf245fc-0a01-450c-cdbb-8e9c25529e60"
      },
      "execution_count": 47,
      "outputs": [
        {
          "output_type": "stream",
          "name": "stdout",
          "text": [
            "{'Dev', 'BMW', 'Pranav', 'Ferrari', 'Aditya', 'Porsche', 'Kalpesh', 'Suzuki', 'Avadhut'}\n"
          ]
        }
      ]
    },
    {
      "cell_type": "markdown",
      "source": [
        "Remove() will raise error if element is present\n",
        "\n",
        "Instead, Use discard() so it will not raise error"
      ],
      "metadata": {
        "id": "F6-Wumj3uADa"
      }
    },
    {
      "cell_type": "code",
      "source": [
        "mySet.remove(\"Pranav\")\n",
        "print(mySet)"
      ],
      "metadata": {
        "colab": {
          "base_uri": "https://localhost:8080/"
        },
        "id": "xTSlAFYPsH5N",
        "outputId": "dafa37fa-0144-4f44-e3b1-0aa60ace0bd3"
      },
      "execution_count": 48,
      "outputs": [
        {
          "output_type": "stream",
          "name": "stdout",
          "text": [
            "{'Dev', 'BMW', 'Ferrari', 'Aditya', 'Porsche', 'Kalpesh', 'Suzuki', 'Avadhut'}\n"
          ]
        }
      ]
    },
    {
      "cell_type": "markdown",
      "source": [
        "Remmoves random element"
      ],
      "metadata": {
        "id": "ouDk4vUwt4xG"
      }
    },
    {
      "cell_type": "code",
      "source": [
        "mySet.pop()\n",
        "print(mySet)"
      ],
      "metadata": {
        "colab": {
          "base_uri": "https://localhost:8080/"
        },
        "id": "mYrFRSqDtzDt",
        "outputId": "0afe3e18-11af-4f38-afdf-075d71b7a865"
      },
      "execution_count": 49,
      "outputs": [
        {
          "output_type": "stream",
          "name": "stdout",
          "text": [
            "{'BMW', 'Ferrari', 'Aditya', 'Porsche', 'Kalpesh', 'Suzuki', 'Avadhut'}\n"
          ]
        }
      ]
    },
    {
      "cell_type": "markdown",
      "source": [
        "Join Sets\n",
        "\n",
        "There are several ways to join two or more sets in Python.\n",
        "\n",
        "\n",
        "\n",
        "1.   The union() and update() methods joins all items from both sets.\n",
        "2.   The intersection() method keeps ONLY the duplicates.\n",
        "3.   The difference() method keeps the items from the first set that are not in the other set(s).\n",
        "4.   The symmetric_difference() method keeps all items EXCEPT the duplicates.\n",
        "\n",
        "\n",
        "\n",
        "\n",
        "\n",
        "\n",
        "\n"
      ],
      "metadata": {
        "id": "VqnJkcPEujH1"
      }
    },
    {
      "cell_type": "markdown",
      "source": [
        "The union() method returns a new set with all items from both sets."
      ],
      "metadata": {
        "id": "-hCtSV2HwD1N"
      }
    },
    {
      "cell_type": "code",
      "source": [
        "set1 = {\"a\", \"b\", \"c\"}\n",
        "set2 = {1, 2, 3}\n",
        "\n",
        "set3 = set1.union(set2)\n",
        "print(set3)"
      ],
      "metadata": {
        "colab": {
          "base_uri": "https://localhost:8080/"
        },
        "id": "LlSujD5Pt3j6",
        "outputId": "badd558c-6691-43d4-edbc-8171ee171213"
      },
      "execution_count": 50,
      "outputs": [
        {
          "output_type": "stream",
          "name": "stdout",
          "text": [
            "{1, 2, 3, 'a', 'b', 'c'}\n"
          ]
        }
      ]
    },
    {
      "cell_type": "code",
      "source": [
        "set1 = {\"a\", \"b\", \"c\"}\n",
        "set2 = {1, 2, 3}\n",
        "set3 = {\"John\", \"Elena\"}\n",
        "set4 = {\"apple\", \"bananas\", \"cherry\"}\n",
        "\n",
        "myset = set1.union(set2, set3, set4)\n",
        "print(myset)"
      ],
      "metadata": {
        "colab": {
          "base_uri": "https://localhost:8080/"
        },
        "id": "brGJ8iFMvP0Y",
        "outputId": "adab2c87-b388-4e1c-cb06-25011b3a170b"
      },
      "execution_count": 51,
      "outputs": [
        {
          "output_type": "stream",
          "name": "stdout",
          "text": [
            "{1, 2, 3, 'a', 'c', 'Elena', 'bananas', 'cherry', 'b', 'apple', 'John'}\n"
          ]
        }
      ]
    },
    {
      "cell_type": "markdown",
      "source": [
        "The intersection() method will return a new set, that only contains the items that are present in both sets."
      ],
      "metadata": {
        "id": "LtBHyYOvwJ-1"
      }
    },
    {
      "cell_type": "code",
      "source": [
        "set1 = {\"apple\", \"banana\", \"cherry\"}\n",
        "set2 = {\"google\", \"microsoft\", \"apple\"}\n",
        "\n",
        "set3 = set1.intersection(set2)\n",
        "print(set3)"
      ],
      "metadata": {
        "colab": {
          "base_uri": "https://localhost:8080/"
        },
        "id": "QLxWSj8gvR0v",
        "outputId": "4d8c4835-57b9-48ac-c1aa-4f58a497c3b0"
      },
      "execution_count": 52,
      "outputs": [
        {
          "output_type": "stream",
          "name": "stdout",
          "text": [
            "{'apple'}\n"
          ]
        }
      ]
    },
    {
      "cell_type": "markdown",
      "source": [
        "The intersection_update() method will also keep ONLY the duplicates, but it will change the original set instead of returning a new set."
      ],
      "metadata": {
        "id": "ithjNZVSvdKY"
      }
    },
    {
      "cell_type": "code",
      "source": [
        "set1 = {\"apple\", \"banana\", \"cherry\"}\n",
        "set2 = {\"google\", \"microsoft\", \"apple\"}\n",
        "\n",
        "set1.intersection_update(set2)\n",
        "\n",
        "print(set1)"
      ],
      "metadata": {
        "colab": {
          "base_uri": "https://localhost:8080/"
        },
        "id": "uuq_tJe9vZEt",
        "outputId": "04861e13-af99-48c0-eb2c-a79bd5c53062"
      },
      "execution_count": 53,
      "outputs": [
        {
          "output_type": "stream",
          "name": "stdout",
          "text": [
            "{'apple'}\n"
          ]
        }
      ]
    },
    {
      "cell_type": "code",
      "source": [
        "set1 = {\"apple\", \"banana\", \"cherry\"}\n",
        "set2 = {\"google\", \"microsoft\", \"apple\"}\n",
        "\n",
        "set3 = set1.difference(set2)\n",
        "\n",
        "print(set3)"
      ],
      "metadata": {
        "colab": {
          "base_uri": "https://localhost:8080/"
        },
        "id": "PU3O9qU7vhAv",
        "outputId": "d79c2a41-724b-4185-c30b-445ac25cea3b"
      },
      "execution_count": 54,
      "outputs": [
        {
          "output_type": "stream",
          "name": "stdout",
          "text": [
            "{'banana', 'cherry'}\n"
          ]
        }
      ]
    },
    {
      "cell_type": "markdown",
      "source": [
        "The difference_update() method will also keep the items from the first set that are not in the other set, but it will change the original set instead of returning a new set."
      ],
      "metadata": {
        "id": "d0aijouyvopK"
      }
    },
    {
      "cell_type": "code",
      "source": [
        "set1 = {\"apple\", \"banana\", \"cherry\"}\n",
        "set2 = {\"google\", \"microsoft\", \"apple\"}\n",
        "\n",
        "set1.difference_update(set2)\n",
        "\n",
        "print(set1)"
      ],
      "metadata": {
        "colab": {
          "base_uri": "https://localhost:8080/"
        },
        "id": "RDHmrIA5vlnD",
        "outputId": "93a344da-48d7-4b1b-e260-a6243bf0bef0"
      },
      "execution_count": 55,
      "outputs": [
        {
          "output_type": "stream",
          "name": "stdout",
          "text": [
            "{'banana', 'cherry'}\n"
          ]
        }
      ]
    },
    {
      "cell_type": "markdown",
      "source": [
        "The symmetric_difference() method will keep only the elements that are NOT present in both sets."
      ],
      "metadata": {
        "id": "XhWYQZJOv0z-"
      }
    },
    {
      "cell_type": "code",
      "source": [
        "set1 = {\"apple\", \"banana\", \"cherry\"}\n",
        "set2 = {\"google\", \"microsoft\", \"apple\"}\n",
        "\n",
        "set3 = set1.symmetric_difference(set2)\n",
        "\n",
        "print(set3)"
      ],
      "metadata": {
        "colab": {
          "base_uri": "https://localhost:8080/"
        },
        "id": "evouLPuJvqjk",
        "outputId": "80140a2c-f582-4a52-d5f7-a22819b6121d"
      },
      "execution_count": 56,
      "outputs": [
        {
          "output_type": "stream",
          "name": "stdout",
          "text": [
            "{'microsoft', 'cherry', 'google', 'banana'}\n"
          ]
        }
      ]
    },
    {
      "cell_type": "markdown",
      "source": [
        "The symmetric_difference_update() method will also keep all but the duplicates, but it will change the original set instead of returning a new set."
      ],
      "metadata": {
        "id": "P1XNkQYAv-NU"
      }
    },
    {
      "cell_type": "code",
      "source": [
        "set1 = {\"apple\", \"banana\", \"cherry\"}\n",
        "set2 = {\"google\", \"microsoft\", \"apple\"}\n",
        "\n",
        "set1.symmetric_difference_update(set2)\n",
        "\n",
        "print(set1)"
      ],
      "metadata": {
        "colab": {
          "base_uri": "https://localhost:8080/"
        },
        "id": "5C0xQYqJvtNn",
        "outputId": "216b4018-6866-4ba6-846f-0b1580d4f567"
      },
      "execution_count": 57,
      "outputs": [
        {
          "output_type": "stream",
          "name": "stdout",
          "text": [
            "{'microsoft', 'cherry', 'google', 'banana'}\n"
          ]
        }
      ]
    },
    {
      "cell_type": "markdown",
      "source": [
        "# Dictionary"
      ],
      "metadata": {
        "id": "ggSiaziPALeR"
      }
    },
    {
      "cell_type": "markdown",
      "source": [
        "**Dictionary**\n",
        "\n",
        "Dictionaries are used to store data values in key:value pairs.\n",
        "\n",
        "A dictionary is a collection which is ordered*, changeable and do not allow duplicates."
      ],
      "metadata": {
        "id": "8vIgCZf_5S3V"
      }
    },
    {
      "cell_type": "code",
      "source": [
        "thisDict = {\n",
        "  \"brand\": \"Ford\",\n",
        "  \"model\": \"Mustang\",\n",
        "  \"year\": 1964\n",
        "}\n",
        "print(thisDict)"
      ],
      "metadata": {
        "colab": {
          "base_uri": "https://localhost:8080/"
        },
        "id": "-j2UMju_wUn6",
        "outputId": "ece7a1b7-34c8-4259-d0ce-c761d0f74dd5"
      },
      "execution_count": 58,
      "outputs": [
        {
          "output_type": "stream",
          "name": "stdout",
          "text": [
            "{'brand': 'Ford', 'model': 'Mustang', 'year': 1964}\n"
          ]
        }
      ]
    },
    {
      "cell_type": "code",
      "source": [
        "print(thisDict[\"year\"])\n",
        "print(len(thisDict))"
      ],
      "metadata": {
        "colab": {
          "base_uri": "https://localhost:8080/"
        },
        "id": "_XI1IpTC5cKA",
        "outputId": "ed296a08-8451-4b33-a76d-40f45ab9b9e0"
      },
      "execution_count": 59,
      "outputs": [
        {
          "output_type": "stream",
          "name": "stdout",
          "text": [
            "1964\n",
            "3\n"
          ]
        }
      ]
    },
    {
      "cell_type": "code",
      "source": [
        "x= thisDict.get(\"brand\")\n",
        "print(x)"
      ],
      "metadata": {
        "colab": {
          "base_uri": "https://localhost:8080/"
        },
        "id": "A4TWWawS5ncK",
        "outputId": "0c4bafe1-1736-417d-fbff-c32294a05c15"
      },
      "execution_count": 60,
      "outputs": [
        {
          "output_type": "stream",
          "name": "stdout",
          "text": [
            "Ford\n"
          ]
        }
      ]
    },
    {
      "cell_type": "code",
      "source": [
        "print(thisDict.keys())"
      ],
      "metadata": {
        "colab": {
          "base_uri": "https://localhost:8080/"
        },
        "id": "9dbV2WT-58yq",
        "outputId": "8a9a3650-7b1f-423b-eb15-a057c97dd759"
      },
      "execution_count": 61,
      "outputs": [
        {
          "output_type": "stream",
          "name": "stdout",
          "text": [
            "dict_keys(['brand', 'model', 'year'])\n"
          ]
        }
      ]
    },
    {
      "cell_type": "code",
      "source": [
        "print(thisDict.values())"
      ],
      "metadata": {
        "colab": {
          "base_uri": "https://localhost:8080/"
        },
        "id": "n2x9NRLC6C3s",
        "outputId": "933cc12a-339d-46fb-acd6-066dcc83345e"
      },
      "execution_count": 62,
      "outputs": [
        {
          "output_type": "stream",
          "name": "stdout",
          "text": [
            "dict_values(['Ford', 'Mustang', 1964])\n"
          ]
        }
      ]
    },
    {
      "cell_type": "code",
      "source": [
        "print(thisDict.items())"
      ],
      "metadata": {
        "colab": {
          "base_uri": "https://localhost:8080/"
        },
        "id": "A6wzUu6g6IWI",
        "outputId": "e5dac0a1-faeb-4b94-8232-db3715a143f1"
      },
      "execution_count": 63,
      "outputs": [
        {
          "output_type": "stream",
          "name": "stdout",
          "text": [
            "dict_items([('brand', 'Ford'), ('model', 'Mustang'), ('year', 1964)])\n"
          ]
        }
      ]
    },
    {
      "cell_type": "code",
      "source": [
        "thisDict[\"Range\"]=\"15\"\n",
        "print(thisDict.items())"
      ],
      "metadata": {
        "colab": {
          "base_uri": "https://localhost:8080/"
        },
        "id": "l5JUT6Fm6L3r",
        "outputId": "3a7cb017-06d9-447a-e66e-cbafa3666550"
      },
      "execution_count": 64,
      "outputs": [
        {
          "output_type": "stream",
          "name": "stdout",
          "text": [
            "dict_items([('brand', 'Ford'), ('model', 'Mustang'), ('year', 1964), ('Range', '15')])\n"
          ]
        }
      ]
    },
    {
      "cell_type": "code",
      "source": [
        "thisDict[\"year\"] = 2018\n",
        "print(thisDict.items())"
      ],
      "metadata": {
        "colab": {
          "base_uri": "https://localhost:8080/"
        },
        "id": "O9t99-GB6Y_U",
        "outputId": "2ad1b3eb-440d-4190-d153-dde50b251aaa"
      },
      "execution_count": 65,
      "outputs": [
        {
          "output_type": "stream",
          "name": "stdout",
          "text": [
            "dict_items([('brand', 'Ford'), ('model', 'Mustang'), ('year', 2018), ('Range', '15')])\n"
          ]
        }
      ]
    },
    {
      "cell_type": "code",
      "source": [
        "thisDict.update({\"year\":2024})\n",
        "print(thisDict.items())"
      ],
      "metadata": {
        "colab": {
          "base_uri": "https://localhost:8080/"
        },
        "id": "MhK3xwlB6oNm",
        "outputId": "2da9dc53-a00f-43ec-ee0a-17d077b46586"
      },
      "execution_count": 66,
      "outputs": [
        {
          "output_type": "stream",
          "name": "stdout",
          "text": [
            "dict_items([('brand', 'Ford'), ('model', 'Mustang'), ('year', 2024), ('Range', '15')])\n"
          ]
        }
      ]
    },
    {
      "cell_type": "code",
      "source": [
        "thisDict.pop(\"model\")\n",
        "print(thisDict)"
      ],
      "metadata": {
        "colab": {
          "base_uri": "https://localhost:8080/"
        },
        "id": "qP3ukh2I6wCa",
        "outputId": "a7bb10a7-b209-42b6-c2b5-5337cb86353b"
      },
      "execution_count": 67,
      "outputs": [
        {
          "output_type": "stream",
          "name": "stdout",
          "text": [
            "{'brand': 'Ford', 'year': 2024, 'Range': '15'}\n"
          ]
        }
      ]
    },
    {
      "cell_type": "code",
      "source": [
        "thisDict.popitem()\n",
        "print(thisDict)"
      ],
      "metadata": {
        "colab": {
          "base_uri": "https://localhost:8080/"
        },
        "id": "5gpdVsrI662O",
        "outputId": "bd6e01f0-0484-43c5-8158-3e67d378e17d"
      },
      "execution_count": 68,
      "outputs": [
        {
          "output_type": "stream",
          "name": "stdout",
          "text": [
            "{'brand': 'Ford', 'year': 2024}\n"
          ]
        }
      ]
    },
    {
      "cell_type": "code",
      "source": [
        "thisDict.update({\"model\":\"mustang\",\"range\":2018})"
      ],
      "metadata": {
        "id": "If-agiOR7Crp"
      },
      "execution_count": 69,
      "outputs": []
    },
    {
      "cell_type": "code",
      "source": [
        "for x in thisDict:\n",
        "  print(x)"
      ],
      "metadata": {
        "colab": {
          "base_uri": "https://localhost:8080/"
        },
        "id": "C-cL3j1w7lfs",
        "outputId": "cb053350-341f-4b78-8ac0-55f6537a5dcf"
      },
      "execution_count": 70,
      "outputs": [
        {
          "output_type": "stream",
          "name": "stdout",
          "text": [
            "brand\n",
            "year\n",
            "model\n",
            "range\n"
          ]
        }
      ]
    },
    {
      "cell_type": "code",
      "source": [
        "for x in thisDict:\n",
        "  print(thisDict[x])"
      ],
      "metadata": {
        "colab": {
          "base_uri": "https://localhost:8080/"
        },
        "id": "ZkdybZ4Y7o-F",
        "outputId": "1e733cbd-c5ee-4c49-bae0-5b7e9fe17006"
      },
      "execution_count": 71,
      "outputs": [
        {
          "output_type": "stream",
          "name": "stdout",
          "text": [
            "Ford\n",
            "2024\n",
            "mustang\n",
            "2018\n"
          ]
        }
      ]
    },
    {
      "cell_type": "code",
      "source": [
        "for x in thisDict.values():\n",
        "  print(x)"
      ],
      "metadata": {
        "colab": {
          "base_uri": "https://localhost:8080/"
        },
        "id": "wUXz6QbI7uf7",
        "outputId": "ded45592-a969-4510-dee9-d8c8eb5ea687"
      },
      "execution_count": 72,
      "outputs": [
        {
          "output_type": "stream",
          "name": "stdout",
          "text": [
            "Ford\n",
            "2024\n",
            "mustang\n",
            "2018\n"
          ]
        }
      ]
    },
    {
      "cell_type": "code",
      "source": [
        "for x, y in thisDict.items():\n",
        "  print(x, y)"
      ],
      "metadata": {
        "colab": {
          "base_uri": "https://localhost:8080/"
        },
        "id": "0AYbT9ys71S8",
        "outputId": "51911f72-1336-4fde-92a2-2c2c2c94404f"
      },
      "execution_count": 73,
      "outputs": [
        {
          "output_type": "stream",
          "name": "stdout",
          "text": [
            "brand Ford\n",
            "year 2024\n",
            "model mustang\n",
            "range 2018\n"
          ]
        }
      ]
    },
    {
      "cell_type": "code",
      "source": [
        "thisdict = {\n",
        "  \"brand\": \"Ford\",\n",
        "  \"model\": \"Mustang\",\n",
        "  \"year\": 1964\n",
        "}\n",
        "mydict = thisdict.copy()\n",
        "print(mydict)"
      ],
      "metadata": {
        "colab": {
          "base_uri": "https://localhost:8080/"
        },
        "id": "yQ54gfFg7_wk",
        "outputId": "3d138468-d02e-4e10-94bb-132ebb0802b3"
      },
      "execution_count": 74,
      "outputs": [
        {
          "output_type": "stream",
          "name": "stdout",
          "text": [
            "{'brand': 'Ford', 'model': 'Mustang', 'year': 1964}\n"
          ]
        }
      ]
    },
    {
      "cell_type": "markdown",
      "source": [
        "Nested Dictionary"
      ],
      "metadata": {
        "id": "9GNz8aY38Jxb"
      }
    },
    {
      "cell_type": "code",
      "source": [
        "myfamily = {\n",
        "  \"child1\" : {\n",
        "    \"name\" : \"Emil\",\n",
        "    \"year\" : 2004\n",
        "  },\n",
        "  \"child2\" : {\n",
        "    \"name\" : \"Tobias\",\n",
        "    \"year\" : 2007\n",
        "  },\n",
        "  \"child3\" : {\n",
        "    \"name\" : \"Linus\",\n",
        "    \"year\" : 2011\n",
        "  }\n",
        "}"
      ],
      "metadata": {
        "id": "--mIi-ra8D6d"
      },
      "execution_count": 75,
      "outputs": []
    },
    {
      "cell_type": "code",
      "source": [
        "print(myfamily[\"child2\"][\"name\"])"
      ],
      "metadata": {
        "colab": {
          "base_uri": "https://localhost:8080/"
        },
        "id": "ZujknSZ08Lrt",
        "outputId": "127c43df-9e38-4941-bc24-bd82ce229afe"
      },
      "execution_count": 76,
      "outputs": [
        {
          "output_type": "stream",
          "name": "stdout",
          "text": [
            "Tobias\n"
          ]
        }
      ]
    },
    {
      "cell_type": "code",
      "source": [
        "for x,obj in myfamily.items():\n",
        "  print(x)\n",
        "  for y in obj:\n",
        "    print(y+\":\",obj[y])"
      ],
      "metadata": {
        "colab": {
          "base_uri": "https://localhost:8080/"
        },
        "id": "phpQBXBr8UzB",
        "outputId": "44efa487-0d6e-4740-9b23-800293414ac7"
      },
      "execution_count": 77,
      "outputs": [
        {
          "output_type": "stream",
          "name": "stdout",
          "text": [
            "child1\n",
            "name: Emil\n",
            "year: 2004\n",
            "child2\n",
            "name: Tobias\n",
            "year: 2007\n",
            "child3\n",
            "name: Linus\n",
            "year: 2011\n"
          ]
        }
      ]
    },
    {
      "cell_type": "code",
      "source": [],
      "metadata": {
        "id": "KoZ9BfaK8l5W",
        "colab": {
          "base_uri": "https://localhost:8080/",
          "height": 106
        },
        "outputId": "ed7c2b84-8652-4325-aa87-38465ca2c05d"
      },
      "execution_count": 78,
      "outputs": [
        {
          "output_type": "error",
          "ename": "SyntaxError",
          "evalue": "invalid syntax (<ipython-input-78-ce8fdd7d0fd3>, line 1)",
          "traceback": [
            "\u001b[0;36m  File \u001b[0;32m\"<ipython-input-78-ce8fdd7d0fd3>\"\u001b[0;36m, line \u001b[0;32m1\u001b[0m\n\u001b[0;31m    git remote add origin https://github.com/AdityaPatil1705/Python.git\u001b[0m\n\u001b[0m        ^\u001b[0m\n\u001b[0;31mSyntaxError\u001b[0m\u001b[0;31m:\u001b[0m invalid syntax\n"
          ]
        }
      ]
    },
    {
      "cell_type": "code",
      "source": [],
      "metadata": {
        "id": "fsj0rEII5N15"
      },
      "execution_count": null,
      "outputs": []
    }
  ]
}